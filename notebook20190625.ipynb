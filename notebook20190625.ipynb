{
 "cells": [
  {
   "cell_type": "markdown",
   "metadata": {},
   "source": [
    "Im Order \"letters\" finden Sie eine Sammlung von Briefen, deren Absender oder Empfänger August Wilhelm Schlegel ist. "
   ]
  },
  {
   "cell_type": "code",
   "execution_count": 2,
   "metadata": {},
   "outputs": [
    {
     "data": {
      "text/plain": [
       "'/home/td/DH'"
      ]
     },
     "execution_count": 2,
     "metadata": {},
     "output_type": "execute_result"
    }
   ],
   "source": [
    "import xml.etree.ElementTree as ET\n",
    "import sys\n",
    "import os\n",
    "os.getcwd()"
   ]
  },
  {
   "cell_type": "code",
   "execution_count": 3,
   "metadata": {},
   "outputs": [
    {
     "data": {
      "text/plain": [
       "'/home/td/DH/letters/xml'"
      ]
     },
     "execution_count": 3,
     "metadata": {},
     "output_type": "execute_result"
    }
   ],
   "source": [
    "#os.chdir('/home/jovyan/letters/xml')\n",
    "os.chdir('/home/td/DH/letters/xml')\n",
    "os.getcwd()"
   ]
  },
  {
   "cell_type": "code",
   "execution_count": 37,
   "metadata": {},
   "outputs": [],
   "source": [
    "letters = []\n",
    "for t in os.listdir(os.getcwd()):\n",
    "    id = t.split('.')[0]\n",
    "    tree = ET.parse(t)\n",
    "    root = tree.getroot()\n",
    "    for elem in root.findall(\"./{http://www.tei-c.org/ns/1.0}teiHeader/{http://www.tei-c.org/ns/1.0}profileDesc/{http://www.tei-c.org/ns/1.0}correspDesc/{http://www.tei-c.org/ns/1.0}correspAction/[@type='sent']/{http://www.tei-c.org/ns/1.0}persName\"):\n",
    "        sender = elem.text\n",
    "    for elem in root.findall(\"./{http://www.tei-c.org/ns/1.0}teiHeader/{http://www.tei-c.org/ns/1.0}profileDesc/{http://www.tei-c.org/ns/1.0}correspDesc/{http://www.tei-c.org/ns/1.0}correspAction/[@type='sent']/{http://www.tei-c.org/ns/1.0}placeName\"):\n",
    "        dispatch = elem.text\n",
    "    for elem in root.findall(\"./{http://www.tei-c.org/ns/1.0}teiHeader/{http://www.tei-c.org/ns/1.0}profileDesc/{http://www.tei-c.org/ns/1.0}correspDesc/{http://www.tei-c.org/ns/1.0}correspAction/[@type='sent']/{http://www.tei-c.org/ns/1.0}date\"):\n",
    "        date = elem.text\n",
    "    for elem in root.findall(\"./{http://www.tei-c.org/ns/1.0}teiHeader/{http://www.tei-c.org/ns/1.0}profileDesc/{http://www.tei-c.org/ns/1.0}correspDesc/{http://www.tei-c.org/ns/1.0}correspAction/[@type='received']/{http://www.tei-c.org/ns/1.0}persName\"):\n",
    "        recipient = elem.text  \n",
    "    for elem in root.findall(\"./{http://www.tei-c.org/ns/1.0}teiHeader/{http://www.tei-c.org/ns/1.0}profileDesc/{http://www.tei-c.org/ns/1.0}correspDesc/{http://www.tei-c.org/ns/1.0}correspAction/[@type='received']/{http://www.tei-c.org/ns/1.0}placeName\"):\n",
    "        destination = elem.text\n",
    "    for elem in root.findall(\"./{http://www.tei-c.org/ns/1.0}text/{http://www.tei-c.org/ns/1.0}body/{http://www.tei-c.org/ns/1.0}div/{http://www.tei-c.org/ns/1.0}p\"):\n",
    "        content = ''\n",
    "        for i in elem.itertext():\n",
    "            content+=i\n",
    "            content+=' '\n",
    "        content = content[:-1]\n",
    "    letter = {'id':id,'sender':sender,'dispatch':dispatch,'date':date,'recipient':recipient,'destination':destination,'content':content}\n",
    "    letters.append(letter)"
   ]
  },
  {
   "cell_type": "code",
   "execution_count": 42,
   "metadata": {
    "scrolled": true
   },
   "outputs": [
    {
     "name": "stdout",
     "output_type": "stream",
     "text": [
      "https://august-wilhelm-schlegel.de/briefedigital/letters/view/2081\n"
     ]
    }
   ],
   "source": [
    "letters[0]\n",
    "print('https://august-wilhelm-schlegel.de/briefedigital/letters/view/'+letters[0]['id'])"
   ]
  },
  {
   "cell_type": "code",
   "execution_count": 17,
   "metadata": {},
   "outputs": [
    {
     "name": "stdout",
     "output_type": "stream",
     "text": [
      "89\n"
     ]
    },
    {
     "data": {
      "text/plain": [
       "['ich',\n",
       " 'ich',\n",
       " 'ich',\n",
       " 'ich',\n",
       " 'ich',\n",
       " 'ich',\n",
       " 'ich',\n",
       " 'ich',\n",
       " 'ich',\n",
       " 'ich',\n",
       " 'ich',\n",
       " 'ich',\n",
       " 'ich',\n",
       " 'ich',\n",
       " 'ich',\n",
       " 'ich',\n",
       " 'ich',\n",
       " 'ich',\n",
       " 'ich',\n",
       " 'ich',\n",
       " 'ich',\n",
       " 'ich',\n",
       " 'ich',\n",
       " 'ich',\n",
       " 'ich',\n",
       " 'ich',\n",
       " 'ich',\n",
       " 'ich',\n",
       " 'ich',\n",
       " 'ich',\n",
       " 'ich',\n",
       " 'ich',\n",
       " 'ich',\n",
       " 'ich',\n",
       " 'ich',\n",
       " 'ich',\n",
       " 'ich',\n",
       " 'ich',\n",
       " 'ich',\n",
       " 'ich',\n",
       " 'ich',\n",
       " 'ich',\n",
       " 'ich',\n",
       " 'ich',\n",
       " 'ich',\n",
       " 'ich',\n",
       " 'ich',\n",
       " 'ich',\n",
       " 'ich',\n",
       " 'ich',\n",
       " 'ich',\n",
       " 'ich',\n",
       " 'ich',\n",
       " 'ich',\n",
       " 'ich',\n",
       " 'ich',\n",
       " 'ich',\n",
       " 'ich',\n",
       " 'ich',\n",
       " 'ich',\n",
       " 'ich',\n",
       " 'ich',\n",
       " 'ich',\n",
       " 'ich',\n",
       " 'ich',\n",
       " 'ich',\n",
       " 'ich',\n",
       " 'ich',\n",
       " 'ich',\n",
       " 'ich',\n",
       " 'ich',\n",
       " 'ich',\n",
       " 'ich',\n",
       " 'ich',\n",
       " 'ich',\n",
       " 'ich',\n",
       " 'ich',\n",
       " 'ich',\n",
       " 'ich',\n",
       " 'ich',\n",
       " 'ich',\n",
       " 'ich',\n",
       " 'ich',\n",
       " 'ich',\n",
       " 'ich',\n",
       " 'ich',\n",
       " 'ich',\n",
       " 'ich',\n",
       " 'ich']"
      ]
     },
     "execution_count": 17,
     "metadata": {},
     "output_type": "execute_result"
    }
   ],
   "source": [
    "import re\n",
    "result=re.findall('ich', letters[23]['content'])\n",
    "print(len(result))\n",
    "result"
   ]
  },
  {
   "cell_type": "code",
   "execution_count": 28,
   "metadata": {},
   "outputs": [
    {
     "name": "stdout",
     "output_type": "stream",
     "text": [
      "21\n"
     ]
    },
    {
     "data": {
      "text/plain": [
       "['gkeit, der ich mich jetzt',\n",
       " 'igen, wenn ich hiebey unv',\n",
       " 'lwege, den ich gehen möch',\n",
       " 'dnen, weil ich bey dem Me',\n",
       " 'isten, was ich bisher sch',\n",
       " 'te, so war ich auch zweif',\n",
       " 'elhaft, ob ich die Betrac',\n",
       " 'sollte, wo ich von der Sc',\n",
       " '  bey, den ich Sie an ihn',\n",
       " ' regen, ob ich seiner glü',\n",
       " 'h, so will ich mich gern ',\n",
       " 'wird. Wenn ich je eine Mu',\n",
       " 'orden, daß ich allmählig ',\n",
       " 'ese könnte ich Ihnen wohl',\n",
       " 'n. So viel ich weiß, habe',\n",
       " 'egien , wo ich nicht irre',\n",
       " 'nach  habe ich schon sehr',\n",
       " 'chem Grade ich begierig d',\n",
       " ' leid, daß ich  ein klein',\n",
       " 'hatte, als ich bey meiner',\n",
       " 'rschienen: ich hätte es l']"
      ]
     },
     "execution_count": 28,
     "metadata": {},
     "output_type": "execute_result"
    }
   ],
   "source": [
    "result=re.findall('.{10} ich .{10}', letters[23]['content'])\n",
    "print(len(result))\n",
    "result"
   ]
  },
  {
   "cell_type": "code",
   "execution_count": null,
   "metadata": {},
   "outputs": [],
   "source": []
  }
 ],
 "metadata": {
  "kernelspec": {
   "display_name": "Python 3",
   "language": "python",
   "name": "python3"
  },
  "language_info": {
   "codemirror_mode": {
    "name": "ipython",
    "version": 3
   },
   "file_extension": ".py",
   "mimetype": "text/x-python",
   "name": "python",
   "nbconvert_exporter": "python",
   "pygments_lexer": "ipython3",
   "version": "3.7.1"
  }
 },
 "nbformat": 4,
 "nbformat_minor": 2
}
