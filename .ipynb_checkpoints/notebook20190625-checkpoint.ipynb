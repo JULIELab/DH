{
 "cells": [
  {
   "cell_type": "markdown",
   "metadata": {},
   "source": [
    "Im Order \"letters\" finden Sie eine Sammlung von Briefen, deren Absender oder Empfänger August Wilhelm Schlegel ist. "
   ]
  },
  {
   "cell_type": "code",
   "execution_count": 1,
   "metadata": {},
   "outputs": [
    {
     "data": {
      "text/plain": [
       "'/home/td/DH'"
      ]
     },
     "execution_count": 1,
     "metadata": {},
     "output_type": "execute_result"
    }
   ],
   "source": [
    "import xml.etree.ElementTree as ET\n",
    "import sys\n",
    "import os\n",
    "os.getcwd()"
   ]
  },
  {
   "cell_type": "code",
   "execution_count": 2,
   "metadata": {},
   "outputs": [
    {
     "data": {
      "text/plain": [
       "'/home/td/DH/letters/xml'"
      ]
     },
     "execution_count": 2,
     "metadata": {},
     "output_type": "execute_result"
    }
   ],
   "source": [
    "#os.chdir('/home/jovyan/letters/xml')\n",
    "os.chdir('/home/td/DH/letters/xml')\n",
    "os.getcwd()"
   ]
  },
  {
   "cell_type": "code",
   "execution_count": 7,
   "metadata": {},
   "outputs": [],
   "source": [
    "letters = []\n",
    "for t in os.listdir(os.getcwd()):\n",
    "    id = t.split('.')[0]\n",
    "    tree = ET.parse(t)\n",
    "    root = tree.getroot()\n",
    "    for elem in root.findall(\"./{http://www.tei-c.org/ns/1.0}teiHeader/{http://www.tei-c.org/ns/1.0}profileDesc/{http://www.tei-c.org/ns/1.0}correspDesc/{http://www.tei-c.org/ns/1.0}correspAction/[@type='sent']/{http://www.tei-c.org/ns/1.0}persName\"):\n",
    "        sender = elem.text\n",
    "    for elem in root.findall(\"./{http://www.tei-c.org/ns/1.0}teiHeader/{http://www.tei-c.org/ns/1.0}profileDesc/{http://www.tei-c.org/ns/1.0}correspDesc/{http://www.tei-c.org/ns/1.0}correspAction/[@type='sent']/{http://www.tei-c.org/ns/1.0}placeName\"):\n",
    "        if not elem:\n",
    "            dispatch = 'unbekannt'\n",
    "        else:\n",
    "            dispatch = elem.text\n",
    "    for elem in root.findall(\"./{http://www.tei-c.org/ns/1.0}teiHeader/{http://www.tei-c.org/ns/1.0}profileDesc/{http://www.tei-c.org/ns/1.0}correspDesc/{http://www.tei-c.org/ns/1.0}correspAction/[@type='sent']/{http://www.tei-c.org/ns/1.0}date\"):\n",
    "        if not elem:\n",
    "            date = 'unbekannt'\n",
    "        else:\n",
    "            date = elem.text\n",
    "    for elem in root.findall(\"./{http://www.tei-c.org/ns/1.0}teiHeader/{http://www.tei-c.org/ns/1.0}profileDesc/{http://www.tei-c.org/ns/1.0}correspDesc/{http://www.tei-c.org/ns/1.0}correspAction/[@type='received']/{http://www.tei-c.org/ns/1.0}persName\"):\n",
    "        recipient = elem.text  \n",
    "    for elem in root.findall(\"./{http://www.tei-c.org/ns/1.0}teiHeader/{http://www.tei-c.org/ns/1.0}profileDesc/{http://www.tei-c.org/ns/1.0}correspDesc/{http://www.tei-c.org/ns/1.0}correspAction/[@type='received']/{http://www.tei-c.org/ns/1.0}placeName\"):\n",
    "        if not elem:\n",
    "            destination = 'unbekannt'\n",
    "        else:\n",
    "            destination = elem.text\n",
    "    for elem in root.findall(\"./{http://www.tei-c.org/ns/1.0}text/{http://www.tei-c.org/ns/1.0}body/{http://www.tei-c.org/ns/1.0}div/{http://www.tei-c.org/ns/1.0}p\"):\n",
    "        content = ''\n",
    "        for i in elem.itertext():\n",
    "            content+=i\n",
    "            content+=' '\n",
    "    letter = {'sender':sender,'dispatch':dispatch,'date':date,'recipient':recipient,'destination':destination,'content':content}\n",
    "    letters.append(letter)"
   ]
  },
  {
   "cell_type": "code",
   "execution_count": 26,
   "metadata": {
    "scrolled": true
   },
   "outputs": [
    {
     "data": {
      "text/plain": [
       "{'sender': 'August Wilhelm von Schlegel',\n",
       " 'dispatch': 'unbekannt',\n",
       " 'date': 'unbekannt',\n",
       " 'recipient': 'Friedrich Schiller',\n",
       " 'destination': 'unbekannt',\n",
       " 'content': '[1]  Braunschweig  d: 9 ten  Nov 1795 [Montag] Ich kann Ihnen nicht genug sagen, mein gütiger und verehrungswürdiger Freund, welch eine wohlthätige Aufmunterung jeder Ihrer Briefe für mich ist. Sie erwecken mir immer die angenehmsten Hoffnungen des Gelingens, und verscheuchen das Mistrauen in meine eignen Kräfte, was mich sonst ziemlich oft heimsucht. Nichts konnte bey der Art von Thätigkeit, der ich mich jetzt widme, ein günstigerer Umstand, eine schönere Vorbedeutung seyn, als gleich beym Eintritt in meine Laufbahn mit Ihnen in Verbindung zu kommen. Es ist mir ungemein lieb, daß meine  Briefe über Poësie  Ihnen nicht misfallen haben. Ich schicke Ihnen einen dritten im Vorrathe, um ihn entweder unmittelbar oder in einem andern Stücke auf jene beyden folgen zu lassen. Bey dem Bestreben nach Faßlichkeit und Gefälligkeit des Vortrages einer ziemlich trocknen Materie, muß zuweilen etwas von der Kürze, welche sonst zu erreichen möglich wäre, aufgeopfert werden: Sie werden mir einen wesentlichen Dienst erzeigen, wenn ich hiebey unvermerkt von dem Mittelwege, den ich gehen möchte, abkommen sollte, es mir offenherzig zu sagen. Wie es mir überhaupt schwer wird, ein Ganzes von eignen Gedanken anzuordnen, weil ich bey dem Meisten, was ich bisher schrieb, einem fremden Leitfaden folgen konnte, so war ich auch zweifelhaft, ob ich die Betrachtungen über den Ursprung der Sprache bis dahin verschieben sollte, wo ich von der Schönheit der Sprachen reden, und jene Grundsätze anwenden werde. [2] Doch schienen Sie mir auch auf den Ursprung der Poësie nahen Bezug zu haben. Ich schmeichle mir, daß das Folgende nicht trockner ausfallen soll, als das bisherige, und glaube auch über den Reim vielleicht einiges Neue sagen zu können. Ich lege hier einen Brief an  Herrn Hofrath Schütz  bey, den ich Sie an ihn zu besorgen bitte. Da meine Zwecke es mir nothwendig machen, alles was von Belang in unsrer schönen Litteratur erscheint, zu studiren, und die Beurtheilung des weniger Wichtigen kein sehr schweres Geschäft ist, so denke ich, daß mir einige Arbeiten für  die Litt.Zeitung  kein Hinderniß für andre Unternehmungen werden sollen, wozu man doch nicht jeden Tag oder jede Stunde des Tages gestimmt ist. Freylich fodern solche Beurtheilungen, wie die, welche Sie mir vorschlagen, die angestrengteste Thätigkeit aller Geisteskräfte: allein sie fallen auch selten vor. Dieser Antrag ist sehr ehrenvoll, und ein für mich unendlich schätzbarer Beweis Ihres Zutrauens. Ich kann der Versuchung nicht widerstehen, ihn anzunehmen, sollten sich auch geheime Zweifel regen, ob ich seiner glücklichen Ausführung wohl völlig gewachsen bin, da man berechtigt ist über Meisterstücke der Kunst auch ein Meisterstück von Kritik zu erwarten, und mehrere von den Gedichten in  den Horen  so viel philosophische Tiefe haben. Wenn Sie indessen nicht etwa jemanden finden, der besser dazu im Stande ist, wie ich, so will ich mich gern an dieses belohnende Geschäft wagen. Die Rezension soll ja wohl so lange aufgeschoben bleiben bis der ganze Jahrgang der Horen erschienen ist? Ich wünschte alsdann [3] zu wissen, ob sich der Auftrag bloß auf die eigentlichen Gedichte einschränkt, oder ob unter dem poëtischen Theil der Horen auch die Erdichtungen in Prosa, die Erzählungen, begriffen sind? Ich habe das 10 te  Stück mit dem größten Interesse gelesen. Ich danke Ihnen für den edlen und auserlesenen Genuß, den mir  die Elegie  gewährt hat. Drey so ausgezeichnete Stücke neben einander sind eine Erscheinung, die wohl nicht leicht in irgend einer Teutschen Zeitschrift außer in dieser Statt gefunden hat.  Göthe  scheint in  diesem artigsten aller Mährchen  die Reichthümer der lieblichsten und muthwilligsten Fantasie erschöpft zu haben, und doch ist es auch wieder als ob ihm dieser ganze Aufwand nichts gekostet hätte. Es thut mir leid, daß sich in diesem Jahrgange schwerlich ein Originalgedicht von mir, unter eine so glänzende Gesellschaft drängen wird. Wenn ich je eine Muse hatte, so ist sie mir wegen der langen Vernachläßigung, wozu mich meine Lage nöthigte, auch wieder von ihrer Seite so spröde geworden, daß ich allmählig von neuem wieder um ihre Gunst werben muß. Mir ist eingefallen, ob es nicht zu einer interessanten Vergleichung Anlaß gäbe, da die Horen so viele Gedichte in Elegischer Form enthalten, eine poëtische Übersetzung von einem oder dem andern Stücke  des Propertius  einzurücken? Diese könnte ich Ihnen wohl liefern. So viel ich weiß, haben wir noch gar keine guten Übersetzungen von diesem Dichter. In den  Charakteren der vorzüglichsten Dichter  finden sich ein paar  Elegien , wo ich nicht irre von  Manso , in gereimte [4] Alexandriner übersetzt, die mir aber ziemlich matt geschienen haben. Freylich macht die Härte und Gelehrsamkeit des Römers eine leichte und dennoch nicht geschwächte Übersetzung sehr schwierig. Ihre Bemerkung, daß auch Rezensionen von einem ausgebreiteten Interesse von Ihrem Plane nicht ausgeschlossen sind, erinnerte mich an  Condorcets  Esquisse dʼun tableau historique pp . Es drängten sich mir bey der Lesung dieses Buchs, besonders bey den so kühnen, reichen, originellen, und in einer gewissen Hinsicht doch wieder so einseitigen Aussichten in die Zukunft eine Menge Betrachtungen auf, die sich, dächte ich, ausführen ließen, ohne sich eben auf die neuesten politischen Begebenheiten näher einzulassen. Glauben Sie, daß ein Aufsatz hierüber einen Platz in den Horen verdienen könnte? Sie erregen meine gespannteste Erwartung durch das, was Sie mir von Ihren poëtischen Planen sagen. Von  Ihren Gedichten  im  Almanach  habe ich schon sehr viel gehört, und brauche Ihnen nicht zu sagen, in welchem Grade ich begierig darauf bin. Es thut mir leid, daß ich  ein kleines Gedicht  schon weggegeben hatte, als ich bey meiner Zurückkunft in Teutschland von Ihrer Herausgabe  eines Almanachs  erfuhr. Es ist mit  einer Komposizion von  Naumann  in  Beckers  Taschenbuch  erschienen: ich hätte es lieber in dieser Gesellschaft gesehen. Leben Sie recht gesund und glücklich, und bewahren Sie mir die wohlwollenden Gesinnungen, die jede Zuschrift von Ihnen mir von neuem offenbart. A. W. Schlegel '}"
      ]
     },
     "execution_count": 26,
     "metadata": {},
     "output_type": "execute_result"
    }
   ],
   "source": [
    "letters[23]"
   ]
  },
  {
   "cell_type": "code",
   "execution_count": 25,
   "metadata": {},
   "outputs": [
    {
     "name": "stdout",
     "output_type": "stream",
     "text": [
      "89\n"
     ]
    },
    {
     "data": {
      "text/plain": [
       "['ich',\n",
       " 'ich',\n",
       " 'ich',\n",
       " 'ich',\n",
       " 'ich',\n",
       " 'ich',\n",
       " 'ich',\n",
       " 'ich',\n",
       " 'ich',\n",
       " 'ich',\n",
       " 'ich',\n",
       " 'ich',\n",
       " 'ich',\n",
       " 'ich',\n",
       " 'ich',\n",
       " 'ich',\n",
       " 'ich',\n",
       " 'ich',\n",
       " 'ich',\n",
       " 'ich',\n",
       " 'ich',\n",
       " 'ich',\n",
       " 'ich',\n",
       " 'ich',\n",
       " 'ich',\n",
       " 'ich',\n",
       " 'ich',\n",
       " 'ich',\n",
       " 'ich',\n",
       " 'ich',\n",
       " 'ich',\n",
       " 'ich',\n",
       " 'ich',\n",
       " 'ich',\n",
       " 'ich',\n",
       " 'ich',\n",
       " 'ich',\n",
       " 'ich',\n",
       " 'ich',\n",
       " 'ich',\n",
       " 'ich',\n",
       " 'ich',\n",
       " 'ich',\n",
       " 'ich',\n",
       " 'ich',\n",
       " 'ich',\n",
       " 'ich',\n",
       " 'ich',\n",
       " 'ich',\n",
       " 'ich',\n",
       " 'ich',\n",
       " 'ich',\n",
       " 'ich',\n",
       " 'ich',\n",
       " 'ich',\n",
       " 'ich',\n",
       " 'ich',\n",
       " 'ich',\n",
       " 'ich',\n",
       " 'ich',\n",
       " 'ich',\n",
       " 'ich',\n",
       " 'ich',\n",
       " 'ich',\n",
       " 'ich',\n",
       " 'ich',\n",
       " 'ich',\n",
       " 'ich',\n",
       " 'ich',\n",
       " 'ich',\n",
       " 'ich',\n",
       " 'ich',\n",
       " 'ich',\n",
       " 'ich',\n",
       " 'ich',\n",
       " 'ich',\n",
       " 'ich',\n",
       " 'ich',\n",
       " 'ich',\n",
       " 'ich',\n",
       " 'ich',\n",
       " 'ich',\n",
       " 'ich',\n",
       " 'ich',\n",
       " 'ich',\n",
       " 'ich',\n",
       " 'ich',\n",
       " 'ich',\n",
       " 'ich']"
      ]
     },
     "execution_count": 25,
     "metadata": {},
     "output_type": "execute_result"
    }
   ],
   "source": [
    "import re\n",
    "result=re.findall('ich', letters[23]['content'])\n",
    "print(len(result))\n",
    "result"
   ]
  },
  {
   "cell_type": "code",
   "execution_count": 28,
   "metadata": {},
   "outputs": [
    {
     "name": "stdout",
     "output_type": "stream",
     "text": [
      "21\n"
     ]
    },
    {
     "data": {
      "text/plain": [
       "['gkeit, der ich mich jetzt',\n",
       " 'igen, wenn ich hiebey unv',\n",
       " 'lwege, den ich gehen möch',\n",
       " 'dnen, weil ich bey dem Me',\n",
       " 'isten, was ich bisher sch',\n",
       " 'te, so war ich auch zweif',\n",
       " 'elhaft, ob ich die Betrac',\n",
       " 'sollte, wo ich von der Sc',\n",
       " '  bey, den ich Sie an ihn',\n",
       " ' regen, ob ich seiner glü',\n",
       " 'h, so will ich mich gern ',\n",
       " 'wird. Wenn ich je eine Mu',\n",
       " 'orden, daß ich allmählig ',\n",
       " 'ese könnte ich Ihnen wohl',\n",
       " 'n. So viel ich weiß, habe',\n",
       " 'egien , wo ich nicht irre',\n",
       " 'nach  habe ich schon sehr',\n",
       " 'chem Grade ich begierig d',\n",
       " ' leid, daß ich  ein klein',\n",
       " 'hatte, als ich bey meiner',\n",
       " 'rschienen: ich hätte es l']"
      ]
     },
     "execution_count": 28,
     "metadata": {},
     "output_type": "execute_result"
    }
   ],
   "source": [
    "result=re.findall('.{10} ich .{10}', letters[23]['content'])\n",
    "print(len(result))\n",
    "result"
   ]
  },
  {
   "cell_type": "code",
   "execution_count": null,
   "metadata": {},
   "outputs": [],
   "source": []
  }
 ],
 "metadata": {
  "kernelspec": {
   "display_name": "Python 3",
   "language": "python",
   "name": "python3"
  },
  "language_info": {
   "codemirror_mode": {
    "name": "ipython",
    "version": 3
   },
   "file_extension": ".py",
   "mimetype": "text/x-python",
   "name": "python",
   "nbconvert_exporter": "python",
   "pygments_lexer": "ipython3",
   "version": "3.7.1"
  }
 },
 "nbformat": 4,
 "nbformat_minor": 2
}
