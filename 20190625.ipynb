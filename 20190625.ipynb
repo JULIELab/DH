{
 "cells": [
  {
   "cell_type": "markdown",
   "metadata": {},
   "source": [
    "Im Order \"letters\" finden Sie eine Sammlung von Briefen, deren Absender oder Empfänger August Wilhelm Schlegel ist. Diese werden in zwei Formaten gespeichert: Plaintext (txt/) und XML (xml/).\n",
    "Aufgabe: Vergleichen Sie die beiden Formate. Welche Unterschiede gibt es?"
   ]
  },
  {
   "cell_type": "markdown",
   "metadata": {},
   "source": [
    "Nun suchen wir in Plaintext nach bestimmten Wörtern:"
   ]
  },
  {
   "cell_type": "code",
   "execution_count": null,
   "metadata": {},
   "outputs": [],
   "source": [
    "os.chdir('/home/td/DH/letters/txt')\n",
    "!grep -E --colour='always' 'ich|das' *"
   ]
  },
  {
   "cell_type": "markdown",
   "metadata": {},
   "source": [
    "Jetzt möchten wir nicht nur in Volltexten suchen, sondern auch in Metadaten. Dafür ist es notwendig, XML-Datei zu parsen."
   ]
  },
  {
   "cell_type": "code",
   "execution_count": null,
   "metadata": {},
   "outputs": [],
   "source": [
    "import xml.etree.ElementTree as ET\n",
    "import sys\n",
    "import os\n",
    "os.getcwd()"
   ]
  },
  {
   "cell_type": "code",
   "execution_count": null,
   "metadata": {},
   "outputs": [],
   "source": [
    "os.chdir('/home/jovyan/letters/xml')\n",
    "#os.chdir('/home/td/DH/letters/xml')\n",
    "os.getcwd()"
   ]
  },
  {
   "cell_type": "markdown",
   "metadata": {},
   "source": [
    "Jetzt extrahieren wir ein paar wichtige Infos aus den XML-Dateien."
   ]
  },
  {
   "cell_type": "code",
   "execution_count": null,
   "metadata": {},
   "outputs": [],
   "source": [
    "letters = []\n",
    "for t in os.listdir(os.getcwd()):\n",
    "    id = t.split('.')[0]\n",
    "    tree = ET.parse(t)\n",
    "    root = tree.getroot()\n",
    "    for elem in root.findall(\"./{http://www.tei-c.org/ns/1.0}teiHeader/{http://www.tei-c.org/ns/1.0}profileDesc/{http://www.tei-c.org/ns/1.0}correspDesc/{http://www.tei-c.org/ns/1.0}correspAction/[@type='sent']/{http://www.tei-c.org/ns/1.0}persName\"):\n",
    "        sender = elem.text\n",
    "    for elem in root.findall(\"./{http://www.tei-c.org/ns/1.0}teiHeader/{http://www.tei-c.org/ns/1.0}profileDesc/{http://www.tei-c.org/ns/1.0}correspDesc/{http://www.tei-c.org/ns/1.0}correspAction/[@type='sent']/{http://www.tei-c.org/ns/1.0}placeName\"):\n",
    "        dispatch = elem.text\n",
    "    for elem in root.findall(\"./{http://www.tei-c.org/ns/1.0}teiHeader/{http://www.tei-c.org/ns/1.0}profileDesc/{http://www.tei-c.org/ns/1.0}correspDesc/{http://www.tei-c.org/ns/1.0}correspAction/[@type='sent']/{http://www.tei-c.org/ns/1.0}date\"):\n",
    "        date = elem.text\n",
    "    for elem in root.findall(\"./{http://www.tei-c.org/ns/1.0}teiHeader/{http://www.tei-c.org/ns/1.0}profileDesc/{http://www.tei-c.org/ns/1.0}correspDesc/{http://www.tei-c.org/ns/1.0}correspAction/[@type='received']/{http://www.tei-c.org/ns/1.0}persName\"):\n",
    "        recipient = elem.text  \n",
    "    for elem in root.findall(\"./{http://www.tei-c.org/ns/1.0}teiHeader/{http://www.tei-c.org/ns/1.0}profileDesc/{http://www.tei-c.org/ns/1.0}correspDesc/{http://www.tei-c.org/ns/1.0}correspAction/[@type='received']/{http://www.tei-c.org/ns/1.0}placeName\"):\n",
    "        destination = elem.text\n",
    "    for elem in root.findall(\"./{http://www.tei-c.org/ns/1.0}text/{http://www.tei-c.org/ns/1.0}body/{http://www.tei-c.org/ns/1.0}div/{http://www.tei-c.org/ns/1.0}p\"):\n",
    "        content = ''\n",
    "        for i in elem.itertext():\n",
    "            content+=i\n",
    "            content+=' '\n",
    "        content = content[:-1]\n",
    "    letter = {'id':id,'sender':sender,'dispatch':dispatch,'date':date,'recipient':recipient,'destination':destination,'content':content}\n",
    "    letters.append(letter)"
   ]
  },
  {
   "cell_type": "code",
   "execution_count": null,
   "metadata": {
    "scrolled": true
   },
   "outputs": [],
   "source": [
    "letters[0]\n",
    "print('https://august-wilhelm-schlegel.de/briefedigital/letters/view/'+letters[0]['id'])"
   ]
  },
  {
   "cell_type": "code",
   "execution_count": null,
   "metadata": {},
   "outputs": [],
   "source": [
    "import re\n",
    "result=re.findall('ich', letters[23]['content'])\n",
    "print(len(result))\n",
    "result"
   ]
  },
  {
   "cell_type": "code",
   "execution_count": null,
   "metadata": {},
   "outputs": [],
   "source": [
    "result=re.findall('.{10} ich .{10}', letters[23]['content'])\n",
    "print(len(result))\n",
    "result"
   ]
  },
  {
   "cell_type": "code",
   "execution_count": null,
   "metadata": {},
   "outputs": [],
   "source": [
    "with open('../../meta.csv','w') as f:\n",
    "    for l in letters:\n",
    "          f.write(l['id'])\n",
    "          f.write('\\t')\n",
    "          f.write(l['sender'])\n",
    "          f.write('\\t')\n",
    "          f.write(l['dispatch'])\n",
    "          f.write('\\t')\n",
    "          f.write(l['date'])\n",
    "          f.write('\\t')\n",
    "          f.write(l['recipient'])\n",
    "          f.write('\\t')\n",
    "          f.write(l['destination'])\n",
    "          f.write('\\n')"
   ]
  },
  {
   "cell_type": "code",
   "execution_count": null,
   "metadata": {},
   "outputs": [],
   "source": []
  }
 ],
 "metadata": {
  "kernelspec": {
   "display_name": "Python 3",
   "language": "python",
   "name": "python3"
  },
  "language_info": {
   "codemirror_mode": {
    "name": "ipython",
    "version": 3
   },
   "file_extension": ".py",
   "mimetype": "text/x-python",
   "name": "python",
   "nbconvert_exporter": "python",
   "pygments_lexer": "ipython3",
   "version": "3.7.1"
  }
 },
 "nbformat": 4,
 "nbformat_minor": 2
}
